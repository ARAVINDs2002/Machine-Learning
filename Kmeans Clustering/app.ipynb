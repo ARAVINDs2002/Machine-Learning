{
 "cells": [
  {
   "cell_type": "markdown",
   "id": "b8b83885-1f87-4238-a1f1-b35c418079b8",
   "metadata": {},
   "source": [
    "### Given the following data, which specify classifications for nine combinations of VAR1 and VAR2 predict a classification for a case where VAR1=0.906 and VAR2=0.606, using the result of k- means clustering with 3 means (i.e., 2 centroids) calculate the precision, recall and F1 score of the above classification method\n",
    "\n",
    "#### VAR1,\tVAR2,  CLASS\n",
    "#### 1.713\t1.586\t0\n",
    "#### 0.180\t1.786\t1\n",
    "#### 0.353\t1.240\t1\n",
    "#### 0.940\t1.566\t0\n",
    "#### 1.486\t0.759\t1\n",
    "#### 1.266\t1.106\t0\n",
    "#### 1.540\t0.419\t1\n",
    "#### 0.459\t1.799\t1\n",
    "#### 0.773\t0.186\t1\n"
   ]
  },
  {
   "cell_type": "code",
   "execution_count": 2,
   "id": "aee81054-9905-42bc-af0b-417f06dc46af",
   "metadata": {},
   "outputs": [
    {
     "name": "stdout",
     "output_type": "stream",
     "text": [
      "Predicted class for VAR1=0.906, VAR2=0.606: 1\n",
      "Cluster centers (scaled):\n",
      "[[ 0.63773861  0.46236393]\n",
      " [ 0.56239043 -1.26270855]\n",
      " [-1.20012903  0.80034462]]\n",
      "Precision: 1.0\n",
      "Recall: 1.0\n",
      "F1 Score: 1.0\n",
      "Accuracy: 1.0\n"
     ]
    },
    {
     "name": "stderr",
     "output_type": "stream",
     "text": [
      "C:\\Users\\aravi\\anaconda3\\Lib\\site-packages\\sklearn\\cluster\\_kmeans.py:1429: UserWarning: KMeans is known to have a memory leak on Windows with MKL, when there are less chunks than available threads. You can avoid it by setting the environment variable OMP_NUM_THREADS=1.\n",
      "  warnings.warn(\n"
     ]
    }
   ],
   "source": [
    "import numpy as np\n",
    "from sklearn.cluster import KMeans\n",
    "import pandas as pd\n",
    "from sklearn.preprocessing import StandardScaler\n",
    "from sklearn.metrics import precision_recall_fscore_support, accuracy_score\n",
    "\n",
    "# Data preparation\n",
    "data = np.array([\n",
    "    [1.713, 1.586],\n",
    "    [0.180, 1.786],\n",
    "    [0.353, 1.240],\n",
    "    [0.940, 1.566],\n",
    "    [1.486, 0.759],\n",
    "    [1.266, 1.106],\n",
    "    [1.540, 0.419],\n",
    "    [0.459, 1.799],\n",
    "    [0.773, 0.186]\n",
    "])\n",
    "\n",
    "true_labels = np.array([0, 1, 1, 0, 1, 0, 1, 1, 1])\n",
    "\n",
    "scaler = StandardScaler()\n",
    "data_scaled = scaler.fit_transform(data)\n",
    "\n",
    "kmeans = KMeans(n_clusters=3, random_state=0, init='random').fit(data_scaled)\n",
    "cluster_labels = kmeans.labels_\n",
    "\n",
    "new_case = np.array([[0.906, 0.606]])\n",
    "new_case_scaled = scaler.transform(new_case)  \n",
    "predicted_cluster = kmeans.predict(new_case_scaled)[0]\n",
    "\n",
    "cluster_to_class = {}\n",
    "for cluster in np.unique(cluster_labels):\n",
    "    cluster_to_class[cluster] = pd.Series(true_labels[cluster_labels == cluster]).mode()[0]\n",
    "\n",
    "predicted_class = cluster_to_class[predicted_cluster]\n",
    "print(f\"Predicted class for VAR1=0.906, VAR2=0.606: {predicted_class}\")\n",
    "\n",
    "# Print cluster centers\n",
    "print(\"Cluster centers (scaled):\")\n",
    "print(kmeans.cluster_centers_)\n",
    "\n",
    "predictions = [cluster_to_class[label] for label in cluster_labels]\n",
    "\n",
    "precision, recall, f1, _ = precision_recall_fscore_support(true_labels, predictions, average='weighted')\n",
    "accuracy = accuracy_score(true_labels, predictions)\n",
    "\n",
    "print(f\"Precision: {precision}\")\n",
    "print(f\"Recall: {recall}\")\n",
    "print(f\"F1 Score: {f1}\")\n",
    "print(f\"Accuracy: {accuracy}\")"
   ]
  },
  {
   "cell_type": "code",
   "execution_count": null,
   "id": "c39b5a7e-6c04-4217-9c92-e30a05dd1276",
   "metadata": {},
   "outputs": [],
   "source": []
  }
 ],
 "metadata": {
  "kernelspec": {
   "display_name": "Python 3 (ipykernel)",
   "language": "python",
   "name": "python3"
  },
  "language_info": {
   "codemirror_mode": {
    "name": "ipython",
    "version": 3
   },
   "file_extension": ".py",
   "mimetype": "text/x-python",
   "name": "python",
   "nbconvert_exporter": "python",
   "pygments_lexer": "ipython3",
   "version": "3.12.7"
  }
 },
 "nbformat": 4,
 "nbformat_minor": 5
}
