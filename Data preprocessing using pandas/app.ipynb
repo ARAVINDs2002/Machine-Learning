{
 "cells": [
  {
   "cell_type": "markdown",
   "id": "1a604235-17a7-4d7e-81a1-169db1fc8f0a",
   "metadata": {},
   "source": [
    "### Given a file “cars_dataset.csv” of automobile data with the fields origin, company name, year, num-of-cylinders, displacement, mileage, horsepower,  weight and acceleration, write Python codes using Pandas to \n",
    "#### 1) Clean and Update the CSV file \n",
    "#### 2) Print total cars of all companies\n",
    "#### 3) Find the average mileage of all companies "
   ]
  },
  {
   "cell_type": "code",
   "execution_count": 1,
   "id": "a10e904f-7ef4-4658-be5a-5487efc8294a",
   "metadata": {},
   "outputs": [],
   "source": [
    " import pandas as pd\n",
    "file_path=\"cars_dataset.csv\"\n"
   ]
  },
  {
   "cell_type": "code",
   "execution_count": 3,
   "id": "f7ab5f34-adb8-44da-94e0-2da528c8321d",
   "metadata": {},
   "outputs": [],
   "source": [
    "df = pd.read_csv(file_path)"
   ]
  },
  {
   "cell_type": "code",
   "execution_count": 4,
   "id": "ad99af4a-d8b5-47d6-9b14-39ccaf431628",
   "metadata": {},
   "outputs": [],
   "source": [
    "df = df.drop_duplicates()\n"
   ]
  },
  {
   "cell_type": "code",
   "execution_count": 5,
   "id": "2a79de0d-c4d3-48a6-8816-c94b404efd4b",
   "metadata": {},
   "outputs": [],
   "source": [
    "df = df.dropna()\n"
   ]
  },
  {
   "cell_type": "code",
   "execution_count": 6,
   "id": "d5b2d898-a44b-489c-ba5a-f363be2b646a",
   "metadata": {},
   "outputs": [],
   "source": [
    "miles_to_kilometers = 1.60934\n",
    "gallon_to_liter = 3.78541\n"
   ]
  },
  {
   "cell_type": "code",
   "execution_count": 7,
   "id": "d14614e2-ed39-46c1-97d5-1c712b8c5aed",
   "metadata": {},
   "outputs": [],
   "source": [
    "df['mileage']=(df['mileage']*miles_to_kilometers / gallon_to_liter)\n"
   ]
  },
  {
   "cell_type": "code",
   "execution_count": 11,
   "id": "f483b101-2e98-45b4-bb96-a808ab7877c9",
   "metadata": {},
   "outputs": [],
   "source": [
    "df.to_csv('new_auto.csv', index=False)# Group the DataFrame by 'company name' and calculate the total\n",
    "company_cars_count=df.groupby('company_name')['company_name'].count()"
   ]
  },
  {
   "cell_type": "code",
   "execution_count": 12,
   "id": "0233cd8c-556a-4084-afab-bbe2bedf8ad5",
   "metadata": {},
   "outputs": [
    {
     "name": "stdout",
     "output_type": "stream",
     "text": [
      "Total cars of all companies:\n"
     ]
    }
   ],
   "source": [
    "print(\"Total cars of all companies:\")\n"
   ]
  },
  {
   "cell_type": "code",
   "execution_count": 13,
   "id": "577d89f0-a0f4-4111-996a-e4d013861219",
   "metadata": {},
   "outputs": [
    {
     "name": "stdout",
     "output_type": "stream",
     "text": [
      "company_name\n",
      "Chevrolet    24\n",
      "Ford         30\n",
      "Honda        19\n",
      "Toyota       27\n",
      "Name: company_name, dtype: int64\n",
      "Average mileage of all the companies: company_name\n",
      "Chevrolet    10.238857\n",
      "Ford          9.990857\n",
      "Honda        10.874707\n",
      "Toyota       10.360889\n",
      "Name: mileage, dtype: float64\n"
     ]
    }
   ],
   "source": [
    "print(company_cars_count)\n",
    "company_average=df.groupby('company_name')['mileage'].mean()\n",
    "print(\"Average mileage of all the companies:\",company_average)"
   ]
  },
  {
   "cell_type": "code",
   "execution_count": null,
   "id": "eb70038e-2256-4c90-a642-5a72fd7ac577",
   "metadata": {},
   "outputs": [],
   "source": []
  }
 ],
 "metadata": {
  "kernelspec": {
   "display_name": "Python 3 (ipykernel)",
   "language": "python",
   "name": "python3"
  },
  "language_info": {
   "codemirror_mode": {
    "name": "ipython",
    "version": 3
   },
   "file_extension": ".py",
   "mimetype": "text/x-python",
   "name": "python",
   "nbconvert_exporter": "python",
   "pygments_lexer": "ipython3",
   "version": "3.12.7"
  }
 },
 "nbformat": 4,
 "nbformat_minor": 5
}
