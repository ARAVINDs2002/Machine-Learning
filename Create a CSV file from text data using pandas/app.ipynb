{
 "cells": [
  {
   "cell_type": "markdown",
   "id": "24a649ca-78b3-495e-9a74-9fa1645b746d",
   "metadata": {},
   "source": [
    "## Write Python program to write the data given below to a CSV file.\n",
    "### SN \t|    Name            | \t Country    |    Contribution   |  \tYear\n",
    "#### 1  | \tLinus Torvalds   |\t Finland    |  \t Linux Kernel   |  \t1991\n",
    "#### 2  | \tTim Berners-Lee  |\t England    |  \t World Wide Web |\t1990\n",
    "#### 3  | \tGuido van Rossum |\t Netherlands|     Python        |   1991\n"
   ]
  },
  {
   "cell_type": "code",
   "execution_count": 1,
   "id": "18e607f8-8e2e-43e3-b884-6bc5ee55eca3",
   "metadata": {},
   "outputs": [],
   "source": [
    "import pandas as pd\n",
    "data={\n",
    "'SN':[1,2,3],\n",
    "'Name':['Linus Torvalds','Tim Berners-Lee','Guido van Rossum'],\n",
    "'Country':['Finland','England','Netherlands'],\n",
    "'Contributions':['Linux Kernel','World Wide Web','Python'],\n",
    "'Year':[1991,1990,1991]\n",
    "}\n"
   ]
  },
  {
   "cell_type": "code",
   "execution_count": 2,
   "id": "9c7ebed3-6b85-4872-ad9f-0eca7cad1f3a",
   "metadata": {},
   "outputs": [
    {
     "name": "stdout",
     "output_type": "stream",
     "text": [
      "csv file created successfully\n",
      "   SN              Name      Country   Contributions  Year\n",
      "0   1    Linus Torvalds      Finland    Linux Kernel  1991\n",
      "1   2   Tim Berners-Lee      England  World Wide Web  1990\n",
      "2   3  Guido van Rossum  Netherlands          Python  1991\n"
     ]
    }
   ],
   "source": [
    "df=pd.DataFrame(data)\n",
    "df.to_csv('Four.csv', index=False)\n",
    "print(\"csv file created successfully\")\n",
    "print(df.head())"
   ]
  },
  {
   "cell_type": "code",
   "execution_count": null,
   "id": "9a65a66c-624d-4f4b-8879-293109f36f67",
   "metadata": {},
   "outputs": [],
   "source": []
  }
 ],
 "metadata": {
  "kernelspec": {
   "display_name": "Python 3 (ipykernel)",
   "language": "python",
   "name": "python3"
  },
  "language_info": {
   "codemirror_mode": {
    "name": "ipython",
    "version": 3
   },
   "file_extension": ".py",
   "mimetype": "text/x-python",
   "name": "python",
   "nbconvert_exporter": "python",
   "pygments_lexer": "ipython3",
   "version": "3.12.7"
  }
 },
 "nbformat": 4,
 "nbformat_minor": 5
}
