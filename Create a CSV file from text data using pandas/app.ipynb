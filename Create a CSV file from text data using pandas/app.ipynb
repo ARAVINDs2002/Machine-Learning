{
 "cells": [
  {
   "cell_type": "markdown",
   "id": "24a649ca-78b3-495e-9a74-9fa1645b746d",
   "metadata": {},
   "source": [
    "## Write Python program to write the data given below to a CSV file.\n",
    "### SN \t|    Name            | \t Country    |    Contribution   |  \tYear\n",
    "#### 1  | \tLinus Torvalds   |\t Finland    |  \t Linux Kernel   |  \t1991\n",
    "#### 2  | \tTim Berners-Lee  |\t England    |  \t World Wide Web |\t1990\n",
    "#### 3  | \tGuido van Rossum |\t Netherlands|     Python        |   \t1991\n"
   ]
  },
  {
   "cell_type": "code",
   "execution_count": null,
   "id": "18e607f8-8e2e-43e3-b884-6bc5ee55eca3",
   "metadata": {},
   "outputs": [],
   "source": []
  }
 ],
 "metadata": {
  "kernelspec": {
   "display_name": "Python 3 (ipykernel)",
   "language": "python",
   "name": "python3"
  },
  "language_info": {
   "codemirror_mode": {
    "name": "ipython",
    "version": 3
   },
   "file_extension": ".py",
   "mimetype": "text/x-python",
   "name": "python",
   "nbconvert_exporter": "python",
   "pygments_lexer": "ipython3",
   "version": "3.12.7"
  }
 },
 "nbformat": 4,
 "nbformat_minor": 5
}
