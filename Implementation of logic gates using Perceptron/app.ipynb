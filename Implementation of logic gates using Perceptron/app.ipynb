{
 "cells": [
  {
   "cell_type": "markdown",
   "id": "a47e6106-29d8-4e81-92fb-a3ec6e2616d0",
   "metadata": {},
   "source": [
    "# Implementing logic gates using a simple perceptron"
   ]
  },
  {
   "cell_type": "code",
   "execution_count": 1,
   "id": "1eb7037f-b50a-4a3f-b12f-b51745f346a9",
   "metadata": {},
   "outputs": [
    {
     "name": "stdout",
     "output_type": "stream",
     "text": [
      "\n",
      "AND Gate\n",
      "Input: (0, 0) => Output: 0\n",
      "Input: (0, 1) => Output: 0\n",
      "Input: (1, 0) => Output: 0\n",
      "Input: (1, 1) => Output: 1\n",
      "\n",
      "OR Gate\n",
      "Input: (0, 0) => Output: 0\n",
      "Input: (0, 1) => Output: 1\n",
      "Input: (1, 0) => Output: 1\n",
      "Input: (1, 1) => Output: 1\n",
      "\n",
      "NOT Gate\n",
      "Input: 0 => Output: 1\n",
      "Input: 1 => Output: 0\n",
      "\n",
      "NAND Gate\n",
      "Input: (0, 0) => Output: 1\n",
      "Input: (0, 1) => Output: 1\n",
      "Input: (1, 0) => Output: 1\n",
      "Input: (1, 1) => Output: 0\n",
      "\n",
      "NOR Gate\n",
      "Input: (0, 0) => Output: 1\n",
      "Input: (0, 1) => Output: 0\n",
      "Input: (1, 0) => Output: 0\n",
      "Input: (1, 1) => Output: 0\n"
     ]
    }
   ],
   "source": [
    "def perceptron(weights, inputs, bias):\n",
    "    if len(weights) == 1:\n",
    "        weighted_sum = weights[0] * inputs + bias\n",
    "    else:\n",
    "        weighted_sum = weights[0] * inputs[0] + weights[1] * inputs[1] + bias\n",
    "    return 1 if weighted_sum > 0 else 0\n",
    "\n",
    "\n",
    "gates = {\n",
    "    \"AND\": {\"weights\": [1, 1], \"bias\": -1},\n",
    "    \"OR\": {\"weights\": [2, 2], \"bias\": -1},\n",
    "    \"NOT\": {\"weights\": [-1], \"bias\": 1},\n",
    "    \"NAND\": {\"weights\": [-1, -1], \"bias\": 2},\n",
    "    \"NOR\": {\"weights\": [-1, -1], \"bias\": 1}\n",
    "}\n",
    "inputs_2 = [(0, 0), (0, 1), (1, 0), (1, 1)]\n",
    "inputs_1 = [0, 1]\n",
    "def display_gate_outputs(gate_name, inputs, is_single_input=False):\n",
    "    print(f\"\\n{gate_name} Gate\")\n",
    "    for inp in inputs:\n",
    "        if is_single_input:\n",
    "            # Pass the input directly for NOT gate\n",
    "            output = perceptron(gates[gate_name][\"weights\"], inp, gates[gate_name][\"bias\"])\n",
    "        else:\n",
    "            output = perceptron(gates[gate_name][\"weights\"], inp, gates[gate_name][\"bias\"])\n",
    "        print(f\"Input: {inp} => Output: {output}\")\n",
    "\n",
    "# Display outputs for each gate\n",
    "display_gate_outputs(\"AND\", inputs_2)\n",
    "display_gate_outputs(\"OR\", inputs_2)\n",
    "display_gate_outputs(\"NOT\", inputs_1, is_single_input=True)\n",
    "display_gate_outputs(\"NAND\", inputs_2)\n",
    "display_gate_outputs(\"NOR\", inputs_2)\n"
   ]
  },
  {
   "cell_type": "code",
   "execution_count": null,
   "id": "3dcd8e43-0787-438d-ba94-2ae7a44ba737",
   "metadata": {},
   "outputs": [],
   "source": []
  }
 ],
 "metadata": {
  "kernelspec": {
   "display_name": "Python 3 (ipykernel)",
   "language": "python",
   "name": "python3"
  },
  "language_info": {
   "codemirror_mode": {
    "name": "ipython",
    "version": 3
   },
   "file_extension": ".py",
   "mimetype": "text/x-python",
   "name": "python",
   "nbconvert_exporter": "python",
   "pygments_lexer": "ipython3",
   "version": "3.12.7"
  }
 },
 "nbformat": 4,
 "nbformat_minor": 5
}
